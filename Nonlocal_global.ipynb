{
  "nbformat": 4,
  "nbformat_minor": 0,
  "metadata": {
    "colab": {
      "name": "Nonlocal_global.ipynb",
      "provenance": [],
      "collapsed_sections": [],
      "include_colab_link": true
    },
    "kernelspec": {
      "name": "python3",
      "display_name": "Python 3"
    },
    "language_info": {
      "name": "python"
    }
  },
  "cells": [
    {
      "cell_type": "markdown",
      "metadata": {
        "id": "view-in-github",
        "colab_type": "text"
      },
      "source": [
        "<a href=\"https://colab.research.google.com/github/xup5/programing_languages/blob/main/Nonlocal_global.ipynb\" target=\"_parent\"><img src=\"https://colab.research.google.com/assets/colab-badge.svg\" alt=\"Open In Colab\"/></a>"
      ]
    },
    {
      "cell_type": "markdown",
      "source": [
        "Example of static scoping and reference environments in Python 3.\n",
        "Code adapted from the Sebesta textbook Concepts of Programming Languages. "
      ],
      "metadata": {
        "id": "MhtFJjCDxVxX"
      }
    },
    {
      "cell_type": "code",
      "execution_count": null,
      "metadata": {
        "id": "UCdOlZM2fzbv"
      },
      "outputs": [],
      "source": [
        "g = 3\n",
        "def sub1():\n",
        "    a = 5\n",
        "    b = 7\n",
        "    print(\"sub1 g:\", g)\n",
        "    print(\"sub1 a:\", a)\n",
        "    print(\"sub1 b:\", b)\n",
        "    def sub2():\n",
        "        # global g\n",
        "        c = 9\n",
        "        print(\"sub2 g:\", g)\n",
        "        print(\"sub2 c:\", c)\n",
        "        def sub3():\n",
        "                # nonlocal c\n",
        "                g=11\n",
        "                print(\"sub3 g:\", g)\n",
        "                print(\"sub3 c:\", c)\n",
        "        sub3()        \n",
        "    sub2()\n",
        "sub1()\n",
        "print(\"after:\", g)             # global value of g "
      ]
    },
    {
      "cell_type": "code",
      "source": [
        "# Looking at the role of global\n",
        "g = 3\n",
        "def sub1():\n",
        "    g = 1                        # added this; changes local only\n",
        "    a = 5\n",
        "    b = 7\n",
        "    print(\"sub1 g:\", g)\n",
        "    print(\"sub1 a:\", a)\n",
        "    print(\"sub1 b:\", b)\n",
        "    def sub2():\n",
        "        global g\n",
        "        c = 9\n",
        "        g = 5                     # added this; here changes global\n",
        "        print(\"sub2 g:\", g)\n",
        "        print(\"sub2 c:\", c)\n",
        "        def sub3():\n",
        "                # nonlocal c\n",
        "                g=11\n",
        "                print(\"sub3 g:\", g)\n",
        "                print(\"sub3 c:\", c)\n",
        "        sub3()        \n",
        "    sub2()\n",
        "sub1()\n",
        "print(\"after:\", g)             # global value of g "
      ],
      "metadata": {
        "id": "IY661USLimzI"
      },
      "execution_count": null,
      "outputs": []
    },
    {
      "cell_type": "code",
      "source": [
        "# Looking at the role of nonlocal\n",
        "g = 3\n",
        "def sub1():\n",
        "    a = 5\n",
        "    b = 7\n",
        "    print(\"sub1 g:\", g)\n",
        "    print(\"sub1 a:\", a)\n",
        "    print(\"sub1 b:\", b)\n",
        "    def sub2():\n",
        "        # global g\n",
        "        c = 9\n",
        "        g = 5            \n",
        "        print(\"sub2 g:\", g)\n",
        "        print(\"sub2 c:\", c)\n",
        "        def sub3():\n",
        "                #  nonlocal c         # let's toggle this one; can read value of parent in any case...\n",
        "                g=11\n",
        "                print(\"sub3 g:\", g)\n",
        "                print(\"sub3 c:\", c)\n",
        "        sub3()     \n",
        "    sub2()\n",
        "sub1()\n",
        "print(\"after:\", g)             "
      ],
      "metadata": {
        "id": "_0Y0IWjfiqS4"
      },
      "execution_count": null,
      "outputs": []
    },
    {
      "cell_type": "code",
      "source": [
        "# Looking at the role of nonlocal\n",
        "g = 3\n",
        "def sub1():\n",
        "    a = 5\n",
        "    b = 7\n",
        "    print(\"sub1 g:\", g)\n",
        "    print(\"sub1 a:\", a)\n",
        "    print(\"sub1 b:\", b)\n",
        "    def sub2():\n",
        "        global g         \n",
        "        c = 9\n",
        "        g = 5            \n",
        "        print(\"sub2 g:\", g)\n",
        "        print(\"sub2 c:\", c)\n",
        "        def sub3():\n",
        "                nonlocal c  # here we've declared c as non-local, can read and write \n",
        "                c=6         # here we assign new value to c defined in sub2\n",
        "                g=11\n",
        "                print(\"sub3 g:\", g)\n",
        "                print(\"sub3 c:\", c)  \n",
        "        sub3() \n",
        "        print(\"sub2 after c:\", c)    # so value of c changes also in sub2 due to the nonlocal\n",
        "    sub2()\n",
        "sub1()\n",
        "print(\"after:\", g)             "
      ],
      "metadata": {
        "id": "mgBC-t_ii94l"
      },
      "execution_count": null,
      "outputs": []
    },
    {
      "cell_type": "code",
      "source": [
        "# Looking at the role of nonlocal\n",
        "g = 3\n",
        "def sub1():\n",
        "    a = 5\n",
        "    b = 7\n",
        "    print(\"sub1 g:\", g)\n",
        "    print(\"sub1 a:\", a)\n",
        "    print(\"sub1 b:\", b)\n",
        "    def sub2():\n",
        "        global g         \n",
        "        c = 9\n",
        "        g = 5            \n",
        "        print(\"sub2 g:\", g)\n",
        "        print(\"sub2 c:\", c)\n",
        "        def sub3():\n",
        "                # nonlocal c  # let's comment this out again\n",
        "                c=6         # here we assign new value to c defined in sub2, but it is only local\n",
        "                g=11\n",
        "                print(\"sub3 g:\", g)\n",
        "                print(\"sub3 c:\", c)  \n",
        "        sub3() \n",
        "        print(\"sub2 after c:\", c)  # the local assignment did not change c of sub2 \n",
        "    sub2()\n",
        "sub1()\n",
        "print(\"after:\", g)            "
      ],
      "metadata": {
        "id": "wwFjFOvWu3tN"
      },
      "execution_count": null,
      "outputs": []
    }
  ]
}